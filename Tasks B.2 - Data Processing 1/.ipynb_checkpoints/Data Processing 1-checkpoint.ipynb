{
 "cells": [
  {
   "cell_type": "code",
   "execution_count": null,
   "id": "16bf227a",
   "metadata": {},
   "outputs": [],
   "source": [
    "!nvidia-smi"
   ]
  },
  {
   "cell_type": "code",
   "execution_count": null,
   "id": "6b0a3544",
   "metadata": {},
   "outputs": [],
   "source": [
    "!pip install -q numpy\n",
    "!pip install -q matplotlib\n",
    "!pip install -q pandas\n",
    "!pip install -q tensorflow\n",
    "!pip install -q scikit-learn\n",
    "!pip install -q pandas-datareader\n",
    "!pip install -q yfinance"
   ]
  },
  {
   "cell_type": "code",
   "execution_count": null,
   "id": "dc6a40c2",
   "metadata": {},
   "outputs": [],
   "source": [
    "import os\n",
    "import sys\n",
    "from google.colab import drive\n",
    "drive.mount('/content/drive/')\n",
    "\n",
    "# Set the working directory for the tasks\n",
    "SKELETON_DIR = '/content/drive/MyDrive/stock-prediction'\n",
    "os.chdir(SKELETON_DIR)"
   ]
  },
  {
   "cell_type": "code",
   "execution_count": null,
   "id": "ca17dd6a",
   "metadata": {},
   "outputs": [],
   "source": [
    "import numpy as np\n",
    "import matplotlib.pyplot as plt\n",
    "import pandas as pd\n",
    "import pandas_datareader as web\n",
    "import datetime as dt\n",
    "import tensorflow as tf\n",
    "import yfinance as yf\n",
    "\n",
    "from sklearn.preprocessing import MinMaxScaler\n",
    "from tensorflow.keras.models import Sequential\n",
    "from tensorflow.keras.layers import Dense, Dropout, LSTM, InputLayer"
   ]
  },
  {
   "cell_type": "code",
   "execution_count": null,
   "id": "2fa5b371",
   "metadata": {},
   "outputs": [],
   "source": [
    "# Load Data\n",
    "'''\n",
    "This function will allow to specify \n",
    "the start and end date for the whole datasets.\n",
    "\n",
    "This function will also have an option to store the downloaded data\n",
    "on local machine for future uses\n",
    "\n",
    "'''\n",
    "def load_data(start, end, ticker, source='yahoo'):\n",
    "    if not os.path.isdir(\"data\"):\n",
    "        os.mkdir(\"data\")\n",
    "\n",
    "    DATA_DIR = \"/content/drive/MyDrive/stock-prediction/Test/data\"\n",
    "    CSV_FILE = os.path.join(DATA_DIR, f\"RawData-from-{start}to-{end}-{ticker}_stock_data.csv\")\n",
    "\n",
    "    # Check if CSV file exists\n",
    "    if os.path.exists(CSV_FILE):\n",
    "        print('Loading Existing Data')\n",
    "        # Load data from CSV\n",
    "        data = pd.read_csv(CSV_FILE)\n",
    "    else:\n",
    "        print('Downloading Data')\n",
    "        # Fetch data from Yahoo Finance\n",
    "        data = yf.download(ticker, start, end, progress=False)\n",
    "        # Save data to CSV\n",
    "        data.to_csv(CSV_FILE)\n",
    "\n",
    "    # Display the first few rows of the data\n",
    "    data.head()\n",
    "\n",
    "    df = process_data(start, end, ticker, CSV_FILE)\n",
    "    df.head()\n",
    "    \n",
    "    return data, df"
   ]
  },
  {
   "cell_type": "code",
   "execution_count": null,
   "id": "6ea4502c",
   "metadata": {},
   "outputs": [],
   "source": [
    "# Prepare Data\n",
    "def process_data(start, end, ticker, data_path):    \n",
    "    if not os.path.isdir(\"prepared-data\"):\n",
    "        os.mkdir(\"prepared-data\")\n",
    "    \n",
    "    PREPARED_DATA_DIR = \"/content/drive/MyDrive/stock-prediction/Test/prepared-data\"\n",
    "    PREPARED_DATA_FILE = os.path.join(PREPARED_DATA_DIR, f\"PreparedData-from-{start}to-{end}-{ticker}_stock_data.csv\")\n",
    "    \n",
    "    if os.path.exists(PREPARED_DATA_FILE):\n",
    "        print('Loading Prepared Data')\n",
    "        df = pd.read_csv(PREPARED_DATA_FILE)\n",
    "    else:\n",
    "        print('Processing Raw Data')\n",
    "        df = pd.read_csv(data_path)\n",
    "        df.to_csv(PREPARED_DATA_FILE)\n",
    "    \n",
    "    return df\n"
   ]
  },
  {
   "cell_type": "code",
   "execution_count": 2,
   "id": "d7b93c58",
   "metadata": {},
   "outputs": [
    {
     "ename": "NameError",
     "evalue": "name 'load_data' is not defined",
     "output_type": "error",
     "traceback": [
      "\u001b[0;31m---------------------------------------------------------------------------\u001b[0m",
      "\u001b[0;31mNameError\u001b[0m                                 Traceback (most recent call last)",
      "Cell \u001b[0;32mIn[2], line 5\u001b[0m\n\u001b[1;32m      2\u001b[0m end\u001b[38;5;241m=\u001b[39m\u001b[38;5;124m'\u001b[39m\u001b[38;5;124m2023-08-01\u001b[39m\u001b[38;5;124m'\u001b[39m\n\u001b[1;32m      3\u001b[0m ticker\u001b[38;5;241m=\u001b[39m\u001b[38;5;124m'\u001b[39m\u001b[38;5;124mTSLA\u001b[39m\u001b[38;5;124m'\u001b[39m\n\u001b[0;32m----> 5\u001b[0m data \u001b[38;5;241m=\u001b[39m \u001b[43mload_data\u001b[49m(start, end, ticker, source\u001b[38;5;241m=\u001b[39m\u001b[38;5;124m'\u001b[39m\u001b[38;5;124myahoo\u001b[39m\u001b[38;5;124m'\u001b[39m)\n\u001b[1;32m      6\u001b[0m data\u001b[38;5;241m.\u001b[39mhead()\n\u001b[1;32m      8\u001b[0m data \u001b[38;5;241m=\u001b[39m process_data(start, end, ticker, data)\n",
      "\u001b[0;31mNameError\u001b[0m: name 'load_data' is not defined"
     ]
    }
   ],
   "source": [
    "start='2015-01-01'\n",
    "end='2023-08-01'\n",
    "ticker='TSLA'\n",
    "\n",
    "data = load_data(start, end, ticker, source='yahoo')\n",
    "data.head()\n",
    "\n",
    "data = process_data(start, end, ticker, data)\n",
    "data.head()"
   ]
  }
 ],
 "metadata": {
  "kernelspec": {
   "display_name": "Python 3 (ipykernel)",
   "language": "python",
   "name": "python3"
  },
  "language_info": {
   "codemirror_mode": {
    "name": "ipython",
    "version": 3
   },
   "file_extension": ".py",
   "mimetype": "text/x-python",
   "name": "python",
   "nbconvert_exporter": "python",
   "pygments_lexer": "ipython3",
   "version": "3.9.17"
  }
 },
 "nbformat": 4,
 "nbformat_minor": 5
}
