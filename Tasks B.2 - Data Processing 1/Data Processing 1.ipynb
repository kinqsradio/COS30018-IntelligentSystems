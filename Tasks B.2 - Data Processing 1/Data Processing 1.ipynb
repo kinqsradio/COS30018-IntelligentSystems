{
 "cells": [
  {
   "cell_type": "code",
   "execution_count": null,
   "id": "7adba3c2",
   "metadata": {},
   "outputs": [],
   "source": [
    "!nvidia-smi"
   ]
  },
  {
   "cell_type": "code",
   "execution_count": null,
   "id": "3c9cd098",
   "metadata": {},
   "outputs": [],
   "source": [
    "!pip install -q numpy\n",
    "!pip install -q matplotlib\n",
    "!pip install -q pandas\n",
    "!pip install -q tensorflow\n",
    "!pip install -q scikit-learn\n",
    "!pip install -q pandas-datareader\n",
    "!pip install -q yfinance"
   ]
  },
  {
   "cell_type": "code",
   "execution_count": null,
   "id": "9e7e358e",
   "metadata": {},
   "outputs": [],
   "source": [
    "import os\n",
    "import sys\n",
    "from google.colab import drive\n",
    "drive.mount('/content/drive/')\n",
    "\n",
    "# Set the working directory for the tasks\n",
    "SKELETON_DIR = '/content/drive/MyDrive/stock-prediction'\n",
    "os.chdir(SKELETON_DIR)"
   ]
  },
  {
   "cell_type": "code",
   "execution_count": null,
   "id": "91e5c3a1",
   "metadata": {},
   "outputs": [],
   "source": [
    "import numpy as np\n",
    "import matplotlib.pyplot as plt\n",
    "import pandas as pd\n",
    "import pandas_datareader as web\n",
    "import datetime as dt\n",
    "import tensorflow as tf\n",
    "import yfinance as yf\n",
    "\n",
    "from sklearn.preprocessing import MinMaxScaler\n",
    "from tensorflow.keras.models import Sequential\n",
    "from tensorflow.keras.layers import Dense, Dropout, LSTM, InputLayer"
   ]
  },
  {
   "cell_type": "code",
   "execution_count": null,
   "id": "813d00f7",
   "metadata": {},
   "outputs": [],
   "source": [
    "# Load Data\n",
    "'''\n",
    "This function will allow to specify \n",
    "the start and end date for the whole datasets.\n",
    "\n",
    "This function will also have an option to store the downloaded data\n",
    "on local machine for future uses\n",
    "\n",
    "'''\n",
    "def load_data(start, end, ticker, source='yahoo'):\n",
    "    DATA_SOURCE = \"yahoo\"\n",
    "    COMPANY = \"TSLA\"\n",
    "\n",
    "    TRAIN_START = start\n",
    "    TRAIN_END = end\n",
    "\n",
    "    if not os.path.isdir(\"data\"):\n",
    "        os.mkdir(\"data\")\n",
    "\n",
    "    DATA_DIR = \"/content/drive/MyDrive/stock-prediction/data\"\n",
    "    CSV_FILE = os.path.join(DATA_DIR, f\"RawData-from-{start}to-{end}-{COMPANY}_stock_data.csv\")\n",
    "\n",
    "    # Check if CSV file exists\n",
    "    if os.path.exists(CSV_FILE):\n",
    "        # Load data from CSV\n",
    "        data = pd.read_csv(CSV_FILE)\n",
    "    else:\n",
    "        # Fetch data from Yahoo Finance\n",
    "        data = yf.download(COMPANY, start=TRAIN_START, end=TRAIN_END, progress=False)\n",
    "        # Save data to CSV\n",
    "        data.to_csv(CSV_FILE)\n",
    "\n",
    "    # Display the first few rows of the data\n",
    "    data.head()\n",
    "    \n",
    "    return data"
   ]
  },
  {
   "cell_type": "code",
   "execution_count": null,
   "id": "bee051b7",
   "metadata": {},
   "outputs": [],
   "source": [
    "# Prepare Data"
   ]
  }
 ],
 "metadata": {
  "kernelspec": {
   "display_name": "Python 3 (ipykernel)",
   "language": "python",
   "name": "python3"
  },
  "language_info": {
   "codemirror_mode": {
    "name": "ipython",
    "version": 3
   },
   "file_extension": ".py",
   "mimetype": "text/x-python",
   "name": "python",
   "nbconvert_exporter": "python",
   "pygments_lexer": "ipython3",
   "version": "3.9.17"
  }
 },
 "nbformat": 4,
 "nbformat_minor": 5
}
